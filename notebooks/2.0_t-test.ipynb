{
 "cells": [
  {
   "cell_type": "code",
   "execution_count": 1,
   "id": "9562bbe5-1f8b-4ed6-9a35-35ab67017353",
   "metadata": {},
   "outputs": [
    {
     "name": "stdout",
     "output_type": "stream",
     "text": [
      "--- T-Test: G7 vs. Asian Powers (2023) ---\n",
      "Group 1 Mean (G7): 6.6320\n",
      "Group 2 Mean (Asia): 5.5770\n",
      "T-statistic: 2.2954\n",
      "P-value: 0.1443\n",
      "Conclusion: We fail to reject the null hypothesis.\n"
     ]
    }
   ],
   "source": [
    "import pandas as pd\n",
    "from scipy import stats\n",
    "\n",
    "# Load data with the CORRECT file name and encoding\n",
    "df = pd.read_csv('../data/raw/World-happiness-report-updated_2024.csv', encoding='cp1252')\n",
    "\n",
    "# 1. Create your two groups\n",
    "# This dataset has data from 2005-2023. Let's filter for the most recent year, 2023.\n",
    "df_2023 = df[df['year'] == 2023]\n",
    "\n",
    "group1 = df_2023[df_2023['Country name'].isin(['United States', 'United Kingdom', 'France', 'Germany'])]['Life Ladder'].dropna()\n",
    "group2 = df_2023[df_2023['Country name'].isin(['China', 'India', 'Japan'])]['Life Ladder'].dropna()\n",
    "\n",
    "# 2. Perform the t-test\n",
    "t_stat, p_value = stats.ttest_ind(group1, group2, equal_var=False)\n",
    "\n",
    "print(f\"--- T-Test: G7 vs. Asian Powers (2023) ---\")\n",
    "print(f\"Group 1 Mean (G7): {group1.mean():.4f}\")\n",
    "print(f\"Group 2 Mean (Asia): {group2.mean():.4f}\")\n",
    "print(f\"T-statistic: {t_stat:.4f}\")\n",
    "print(f\"P-value: {p_value:.4f}\")\n",
    "\n",
    "# 3. Interpret the result\n",
    "alpha = 0.05\n",
    "if p_value < alpha:\n",
    "    print(f\"Conclusion: We reject the null hypothesis.\")\n",
    "    print(\"There is a statistically significant difference in happiness scores.\")\n",
    "else:\n",
    "    print(f\"Conclusion: We fail to reject the null hypothesis.\")"
   ]
  },
  {
   "cell_type": "code",
   "execution_count": null,
   "id": "064022a4-05fb-4a49-b6d9-303141941939",
   "metadata": {},
   "outputs": [],
   "source": []
  }
 ],
 "metadata": {
  "kernelspec": {
   "display_name": "Python 3 (.venv)",
   "language": "python",
   "name": ".venv"
  },
  "language_info": {
   "codemirror_mode": {
    "name": "ipython",
    "version": 3
   },
   "file_extension": ".py",
   "mimetype": "text/x-python",
   "name": "python",
   "nbconvert_exporter": "python",
   "pygments_lexer": "ipython3",
   "version": "3.14.0"
  }
 },
 "nbformat": 4,
 "nbformat_minor": 5
}
