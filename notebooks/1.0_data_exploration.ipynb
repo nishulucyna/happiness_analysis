{
 "cells": [
  {
   "cell_type": "code",
   "execution_count": 3,
   "id": "040b4184-6ba5-484e-b8eb-879d61530679",
   "metadata": {},
   "outputs": [
    {
     "name": "stdout",
     "output_type": "stream",
     "text": [
      "--- First 5 Rows ---\n",
      "  Country name  year  Life Ladder  Log GDP per capita  Social support  \\\n",
      "0  Afghanistan  2008        3.724               7.350           0.451   \n",
      "1  Afghanistan  2009        4.402               7.509           0.552   \n",
      "2  Afghanistan  2010        4.758               7.614           0.539   \n",
      "3  Afghanistan  2011        3.832               7.581           0.521   \n",
      "4  Afghanistan  2012        3.783               7.661           0.521   \n",
      "\n",
      "   Healthy life expectancy at birth  Freedom to make life choices  Generosity  \\\n",
      "0                              50.5                         0.718       0.164   \n",
      "1                              50.8                         0.679       0.187   \n",
      "2                              51.1                         0.600       0.118   \n",
      "3                              51.4                         0.496       0.160   \n",
      "4                              51.7                         0.531       0.234   \n",
      "\n",
      "   Perceptions of corruption  Positive affect  Negative affect  \n",
      "0                      0.882            0.414            0.258  \n",
      "1                      0.850            0.481            0.237  \n",
      "2                      0.707            0.517            0.275  \n",
      "3                      0.731            0.480            0.267  \n",
      "4                      0.776            0.614            0.268  \n",
      "\n",
      "--- Column Info ---\n",
      "<class 'pandas.core.frame.DataFrame'>\n",
      "RangeIndex: 2363 entries, 0 to 2362\n",
      "Data columns (total 11 columns):\n",
      " #   Column                            Non-Null Count  Dtype  \n",
      "---  ------                            --------------  -----  \n",
      " 0   Country name                      2363 non-null   object \n",
      " 1   year                              2363 non-null   int64  \n",
      " 2   Life Ladder                       2363 non-null   float64\n",
      " 3   Log GDP per capita                2335 non-null   float64\n",
      " 4   Social support                    2350 non-null   float64\n",
      " 5   Healthy life expectancy at birth  2300 non-null   float64\n",
      " 6   Freedom to make life choices      2327 non-null   float64\n",
      " 7   Generosity                        2282 non-null   float64\n",
      " 8   Perceptions of corruption         2238 non-null   float64\n",
      " 9   Positive affect                   2339 non-null   float64\n",
      " 10  Negative affect                   2347 non-null   float64\n",
      "dtypes: float64(9), int64(1), object(1)\n",
      "memory usage: 203.2+ KB\n",
      "None\n",
      "\n",
      "--- Missing Values ---\n",
      "Country name                          0\n",
      "year                                  0\n",
      "Life Ladder                           0\n",
      "Log GDP per capita                   28\n",
      "Social support                       13\n",
      "Healthy life expectancy at birth     63\n",
      "Freedom to make life choices         36\n",
      "Generosity                           81\n",
      "Perceptions of corruption           125\n",
      "Positive affect                      24\n",
      "Negative affect                      16\n",
      "dtype: int64\n"
     ]
    }
   ],
   "source": [
    "import pandas as pd\n",
    "import seaborn as sns\n",
    "import matplotlib.pyplot as plt\n",
    "\n",
    "# Load the data using the CORRECT file name and encoding\n",
    "df = pd.read_csv('../data/raw/World-happiness-report-updated_2024.csv', encoding='cp1252')\n",
    "\n",
    "# See the first 5 rows\n",
    "print(\"--- First 5 Rows ---\")\n",
    "print(df.head())\n",
    "\n",
    "# See column names and data types\n",
    "print(\"\\n--- Column Info ---\")\n",
    "print(df.info())\n",
    "\n",
    "# Check for missing values\n",
    "print(\"\\n--- Missing Values ---\")\n",
    "print(df.isnull().sum())"
   ]
  },
  {
   "cell_type": "code",
   "execution_count": null,
   "id": "278cfa89-8e93-43ec-8964-c368e217a60e",
   "metadata": {},
   "outputs": [],
   "source": []
  }
 ],
 "metadata": {
  "kernelspec": {
   "display_name": "Python 3 (.venv)",
   "language": "python",
   "name": ".venv"
  },
  "language_info": {
   "codemirror_mode": {
    "name": "ipython",
    "version": 3
   },
   "file_extension": ".py",
   "mimetype": "text/x-python",
   "name": "python",
   "nbconvert_exporter": "python",
   "pygments_lexer": "ipython3",
   "version": "3.14.0"
  }
 },
 "nbformat": 4,
 "nbformat_minor": 5
}
