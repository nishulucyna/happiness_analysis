{
 "cells": [
  {
   "cell_type": "code",
   "execution_count": 1,
   "id": "bae3e936-5e39-4c03-989a-331d2ba9abc9",
   "metadata": {},
   "outputs": [
    {
     "name": "stdout",
     "output_type": "stream",
     "text": [
      "--- ANOVA: Are Europe, N. America, and Asia equally happy (2023)? ---\n",
      "F-statistic: 7.0375\n",
      "P-value: 0.0124\n",
      "Conclusion: We reject the null hypothesis.\n",
      "There is a significant difference in mean happiness scores between at least two regions.\n"
     ]
    }
   ],
   "source": [
    "import pandas as pd\n",
    "from scipy import stats\n",
    "\n",
    "# Load data with the CORRECT file name and encoding\n",
    "df = pd.read_csv('../data/raw/World-happiness-report-updated_2024.csv', encoding='cp1252')\n",
    "\n",
    "# 1. Filter for 2023\n",
    "df_2023 = df[df['year'] == 2023]\n",
    "\n",
    "# 2. Create sample groups (since there is no region column)\n",
    "europe = df_2023[df_2023['Country name'].isin(['United Kingdom', 'France', 'Germany', 'Italy', 'Spain', 'Poland'])]['Life Ladder'].dropna()\n",
    "north_america = df_2023[df_2023['Country name'].isin(['United States', 'Canada', 'Mexico'])]['Life Ladder'].dropna()\n",
    "asia = df_2023[df_2023['Country name'].isin(['China', 'India', 'Japan', 'South Korea'])]['Life Ladder'].dropna()\n",
    "\n",
    "# 3. Perform the ANOVA test\n",
    "f_stat, p_value = stats.f_oneway(europe, north_america, asia)\n",
    "\n",
    "print(f\"--- ANOVA: Are Europe, N. America, and Asia equally happy (2023)? ---\")\n",
    "print(f\"F-statistic: {f_stat:.4f}\")\n",
    "print(f\"P-value: {p_value:.4f}\")\n",
    "\n",
    "# 4. Interpret the result\n",
    "alpha = 0.05\n",
    "if p_value < alpha:\n",
    "    print(f\"Conclusion: We reject the null hypothesis.\")\n",
    "    print(\"There is a significant difference in mean happiness scores between at least two regions.\")\n",
    "else:\n",
    "    print(f\"Conclusion: We fail to reject the null hypothesis.\")"
   ]
  },
  {
   "cell_type": "code",
   "execution_count": null,
   "id": "9863729a-d7aa-428f-b2a5-02fb98345a76",
   "metadata": {},
   "outputs": [],
   "source": []
  }
 ],
 "metadata": {
  "kernelspec": {
   "display_name": "Python 3 (.venv)",
   "language": "python",
   "name": ".venv"
  },
  "language_info": {
   "codemirror_mode": {
    "name": "ipython",
    "version": 3
   },
   "file_extension": ".py",
   "mimetype": "text/x-python",
   "name": "python",
   "nbconvert_exporter": "python",
   "pygments_lexer": "ipython3",
   "version": "3.14.0"
  }
 },
 "nbformat": 4,
 "nbformat_minor": 5
}
