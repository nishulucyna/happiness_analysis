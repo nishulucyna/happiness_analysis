{
 "cells": [
  {
   "cell_type": "code",
   "execution_count": 1,
   "id": "fc845f6a-ae4e-48bd-9f4b-32503e41bfd7",
   "metadata": {},
   "outputs": [
    {
     "name": "stdout",
     "output_type": "stream",
     "text": [
      "--- Z-Test: Is the global average happiness score 6.0 in 2023? ---\n",
      "Actual 2023 Mean: 5.6208\n",
      "Z-statistic: -3.9088\n",
      "P-value: 0.0001\n",
      "Conclusion: We reject the null hypothesis.\n",
      "The global average happiness score in 2023 is significantly different from 6.0.\n"
     ]
    }
   ],
   "source": [
    "import pandas as pd\n",
    "from statsmodels.stats.weightstats import ztest\n",
    "\n",
    "# Load data with the CORRECT file name and encoding\n",
    "df = pd.read_csv('../data/raw/World-happiness-report-updated_2024.csv', encoding='cp1252')\n",
    "\n",
    "# 1. Create your sample (all country scores from 2023)\n",
    "scores_2023 = df[df['year'] == 2023]['Life Ladder'].dropna()\n",
    "\n",
    "# 2. Define your hypothesized mean\n",
    "hypothesized_mean = 6.0\n",
    "\n",
    "# 3. Perform the z-test\n",
    "z_stat, p_value = ztest(scores_2023, value=hypothesized_mean)\n",
    "\n",
    "print(f\"--- Z-Test: Is the global average happiness score 6.0 in 2023? ---\")\n",
    "print(f\"Actual 2023 Mean: {scores_2023.mean():.4f}\")\n",
    "print(f\"Z-statistic: {z_stat:.4f}\")\n",
    "print(f\"P-value: {p_value:.4f}\")\n",
    "\n",
    "# 3. Interpret the result\n",
    "alpha = 0.05\n",
    "if p_value < alpha:\n",
    "    print(f\"Conclusion: We reject the null hypothesis.\")\n",
    "    print(f\"The global average happiness score in 2023 is significantly different from 6.0.\")\n",
    "else:\n",
    "    print(f\"Conclusion: We fail to reject the null hypothesis.\")"
   ]
  },
  {
   "cell_type": "code",
   "execution_count": null,
   "id": "b84eed8c-ac1b-4172-a8be-66e59c301af6",
   "metadata": {},
   "outputs": [],
   "source": []
  }
 ],
 "metadata": {
  "kernelspec": {
   "display_name": "Python 3 (.venv)",
   "language": "python",
   "name": ".venv"
  },
  "language_info": {
   "codemirror_mode": {
    "name": "ipython",
    "version": 3
   },
   "file_extension": ".py",
   "mimetype": "text/x-python",
   "name": "python",
   "nbconvert_exporter": "python",
   "pygments_lexer": "ipython3",
   "version": "3.14.0"
  }
 },
 "nbformat": 4,
 "nbformat_minor": 5
}
