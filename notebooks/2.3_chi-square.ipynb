{
 "cells": [
  {
   "cell_type": "code",
   "execution_count": 2,
   "id": "adb41b48-c1a1-4b08-ac88-fe2e8334905e",
   "metadata": {},
   "outputs": [
    {
     "name": "stdout",
     "output_type": "stream",
     "text": [
      "--- Chi-Square Test: Is Happiness related to GDP (2023)? ---\n",
      "\n",
      "Contingency Table:\n",
      "Economy Level    Poor  Rich\n",
      "Happiness Level            \n",
      "Happy              11    53\n",
      "Unhappy            54    11\n",
      "\n",
      "Chi2 Statistic: 53.3995\n",
      "P-value: 0.0000\n",
      "Conclusion: We reject the null hypothesis.\n",
      "There is a significant association between a country's Economy Level and its Happiness Level.\n"
     ]
    }
   ],
   "source": [
    "import pandas as pd\n",
    "from scipy import stats\n",
    "\n",
    "# Load data with the CORRECT file name and encoding\n",
    "df = pd.read_csv('../data/raw/World-happiness-report-updated_2024.csv', encoding='cp1252')\n",
    "\n",
    "# 1. Filter for 2023\n",
    "df_2023 = df[df['year'] == 2023].dropna(subset=['Life Ladder', 'Log GDP per capita'])\n",
    "\n",
    "# 2. Create categorical variables\n",
    "median_score = df_2023['Life Ladder'].median()\n",
    "# THIS IS THE CORRECTED LINE:\n",
    "median_gdp = df_2023['Log GDP per capita'].median() \n",
    "\n",
    "df_2023['Happiness Level'] = ['Happy' if score > median_score else 'Unhappy' for score in df_2023['Life Ladder']]\n",
    "df_2023['Economy Level'] = ['Rich' if gdp > median_gdp else 'Poor' for gdp in df_2023['Log GDP per capita']]\n",
    "\n",
    "# 3. Create a contingency table (crosstab)\n",
    "contingency_table = pd.crosstab(df_2023['Happiness Level'], df_2023['Economy Level'])\n",
    "\n",
    "print(\"--- Chi-Square Test: Is Happiness related to GDP (2023)? ---\")\n",
    "print(\"\\nContingency Table:\")\n",
    "print(contingency_table)\n",
    "\n",
    "# 4. Perform the Chi-Square test\n",
    "chi2_stat, p_value, dof, expected_freq = stats.chi2_contingency(contingency_table)\n",
    "\n",
    "print(f\"\\nChi2 Statistic: {chi2_stat:.4f}\")\n",
    "print(f\"P-value: {p_value:.4f}\")\n",
    "\n",
    "# 5. Interpret the result\n",
    "alpha = 0.05\n",
    "if p_value < alpha:\n",
    "    print(f\"Conclusion: We reject the null hypothesis.\")\n",
    "    print(\"There is a significant association between a country's Economy Level and its Happiness Level.\")\n",
    "else:\n",
    "    print(f\"Conclusion: We fail to reject the null hypothesis.\")"
   ]
  },
  {
   "cell_type": "code",
   "execution_count": null,
   "id": "be815385-1d70-4eab-a404-a890798f8733",
   "metadata": {},
   "outputs": [],
   "source": []
  }
 ],
 "metadata": {
  "kernelspec": {
   "display_name": "Python 3 (.venv)",
   "language": "python",
   "name": ".venv"
  },
  "language_info": {
   "codemirror_mode": {
    "name": "ipython",
    "version": 3
   },
   "file_extension": ".py",
   "mimetype": "text/x-python",
   "name": "python",
   "nbconvert_exporter": "python",
   "pygments_lexer": "ipython3",
   "version": "3.14.0"
  }
 },
 "nbformat": 4,
 "nbformat_minor": 5
}
